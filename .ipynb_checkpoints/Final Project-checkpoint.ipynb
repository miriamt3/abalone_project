{
 "cells": [
  {
   "cell_type": "code",
   "execution_count": null,
   "id": "6caa5a55-b454-463b-8c56-38b6cb861921",
   "metadata": {},
   "outputs": [],
   "source": [
    "drgf"
   ]
  }
 ],
 "metadata": {
  "kernelspec": {
   "display_name": "R",
   "language": "R",
   "name": "ir"
  },
  "language_info": {
   "codemirror_mode": "r",
   "file_extension": ".r",
   "mimetype": "text/x-r-source",
   "name": "R",
   "pygments_lexer": "r",
   "version": "4.1.3"
  }
 },
 "nbformat": 4,
 "nbformat_minor": 5
}
